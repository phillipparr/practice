{
 "cells": [
  {
   "cell_type": "code",
   "execution_count": 285,
   "metadata": {},
   "outputs": [],
   "source": [
    "def validate_slot_filling_per_slot(df_joined, slots):\n",
    "    # Label | correct | wrong_value | missing | excess | substring | superstring\n",
    "    # geo| 0 | 0 | 4 | 0 |\n",
    "\n",
    "    stats = {}\n",
    "    for slot in slots:\n",
    "        slot_predicted = 'pred_' + slot\n",
    "        gold1 = df_joined[slot]\n",
    "        pred1 = df_joined[slot_predicted]\n",
    "        none_rows = df_joined.loc[pd.isnull(gold1) & pd.isnull(pred1)]\n",
    "        none_rows['class'] = \"None\"\n",
    "        classes = []\n",
    "        for i in gold1:\n",
    "            if i in classes or i is None:\n",
    "                continue\n",
    "            elif i.istitle():\n",
    "                classes.append(i)\n",
    "        slot_stats = {}\n",
    "        new_df = pd.DataFrame([])\n",
    "        for class_ in classes:\n",
    "            slot_stats1 = {}\n",
    "            locate = df_joined.loc[df_joined[slot] == class_]\n",
    "            locate['class'] = class_\n",
    "            locate1 = df_joined.loc[(df_joined[slot_predicted] == class_) & (df_joined[slot_predicted] != df_joined[slot])]\n",
    "            locate1['class'] = class_\n",
    "            frames = [locate, locate1]\n",
    "            df_joined1 = pd.concat(frames)\n",
    "            goldy = df_joined1[slot]\n",
    "            predy = df_joined1[slot_predicted]\n",
    "            slot_stats1['TP'] = (goldy == predy).sum()\n",
    "            slot_stats1['FP'] = ((goldy != predy) & (predy == class_)).sum()\n",
    "            slot_stats1['precision'] = slot_stats1['TP'] / (slot_stats1['TP']  + slot_stats1['FP'] )\n",
    "            print(\"slot stats:\", slot_stats1)\n",
    "            new_df = new_df.append(df_joined1)\n",
    "        frames1 = [new_df, none_rows]\n",
    "        new_df = pd.concat(frames1)\n",
    "        classes.append(\"None\")\n",
    "#         df = new_df.loc[new_df['class'] == item]\n",
    "#         gold = df[slot]\n",
    "#         pred = df[slot_predicted]\n",
    "#         slot_stats['slot'] = slot\n",
    "#         correct_values = (gold == pred) | (pd.isnull(gold) & pd.isnull(pred))\n",
    "#         slot_stats['correct'] = correct_values.sum()\n",
    "#         wrong_values = (~pd.isnull(gold)) & (~pd.isnull(pred)) & (gold != pred)\n",
    "#         slot_stats['wrong_value'] = wrong_values.sum()\n",
    "#         slot_stats['missing'] = ((~pd.isnull(gold)) & pd.isnull(pred)).sum()\n",
    "#         slot_stats['excess'] = ((pd.isnull(gold)) & ~pd.isnull(pred)).sum()\n",
    "#         slot_stats['substring'] = (df_joined[wrong_values].apply(lambda x: x[slot_predicted] in x[slot], axis=1)).sum() #((~pd.isnull(df_true[slot])) & pd.isnull(df_predicted[slot]))\n",
    "#         slot_stats['superstring'] = (df_joined[wrong_values].apply(lambda x: x[slot] in x[slot_predicted], axis=1)).sum() #((~pd.isnull(df_true[slot])) & pd.isnull(df_predicted[slot]))\n",
    "\n",
    "#         slot_stats['TP'] = ((gold == pred) & ~pd.isnull(pred) & ~pd.isnull(gold)).sum()\n",
    "#         slot_stats['FP'] = ((gold != pred) & ~pd.isnull(pred)).sum()\n",
    "#         slot_stats['TN'] = (pd.isnull(gold) & pd.isnull(pred)).sum()\n",
    "#         slot_stats['FN'] = (~pd.isnull(gold) & pd.isnull(pred)).sum()\n",
    "#         slot_stats['precision'] = slot_stats['TP'] / (slot_stats['TP']  + slot_stats['FP'] )\n",
    "#         slot_stats['recall'] = slot_stats['TP'] / (slot_stats['TP'] + slot_stats['FN'])\n",
    "#         slot_stats['F1'] = 2 * slot_stats['precision'] * slot_stats['recall'] / (slot_stats['precision'] + slot_stats['recall'])\n",
    "# #         slot_stats['F1_sklearn'] = f1_score(y_true = gold, y_pred=pred, average='micro')\n",
    "#         stats[slot] = slot_stats\n",
    "\n",
    "#             df_slot = pd.DataFrame([v for k,v in stats.items()])\n",
    "# #     df_slot.to_csv(output_csv)\n",
    "#             print(df_slot)\n",
    "\n",
    "    return stats\n",
    "\n"
   ]
  },
  {
   "cell_type": "code",
   "execution_count": 286,
   "metadata": {},
   "outputs": [
    {
     "name": "stderr",
     "output_type": "stream",
     "text": [
      "/Users/phillipparamirez/anaconda3/lib/python3.6/site-packages/ipykernel_launcher.py:11: SettingWithCopyWarning: \n",
      "A value is trying to be set on a copy of a slice from a DataFrame.\n",
      "Try using .loc[row_indexer,col_indexer] = value instead\n",
      "\n",
      "See the caveats in the documentation: http://pandas.pydata.org/pandas-docs/stable/indexing.html#indexing-view-versus-copy\n",
      "  # This is added back by InteractiveShellApp.init_path()\n"
     ]
    },
    {
     "ename": "AttributeError",
     "evalue": "'float' object has no attribute 'istitle'",
     "output_type": "error",
     "traceback": [
      "\u001b[0;31m---------------------------------------------------------------------------\u001b[0m",
      "\u001b[0;31mAttributeError\u001b[0m                            Traceback (most recent call last)",
      "\u001b[0;32m<ipython-input-286-a194e6aa3881>\u001b[0m in \u001b[0;36m<module>\u001b[0;34m()\u001b[0m\n\u001b[1;32m      3\u001b[0m \u001b[0mdata\u001b[0m \u001b[0;34m=\u001b[0m \u001b[0mdata\u001b[0m\u001b[0;34m[\u001b[0m\u001b[0;34m~\u001b[0m\u001b[0mpd\u001b[0m\u001b[0;34m.\u001b[0m\u001b[0misnull\u001b[0m\u001b[0;34m(\u001b[0m\u001b[0mdata\u001b[0m\u001b[0;34m[\u001b[0m\u001b[0;34m'Hit or not'\u001b[0m\u001b[0;34m]\u001b[0m\u001b[0;34m)\u001b[0m\u001b[0;34m]\u001b[0m\u001b[0;34m\u001b[0m\u001b[0m\n\u001b[1;32m      4\u001b[0m \u001b[0mmy_slots\u001b[0m \u001b[0;34m=\u001b[0m \u001b[0;34m[\u001b[0m\u001b[0;34m'geo'\u001b[0m\u001b[0;34m,\u001b[0m \u001b[0;34m'topic'\u001b[0m\u001b[0;34m,\u001b[0m \u001b[0;34m'subtopic'\u001b[0m\u001b[0;34m,\u001b[0m \u001b[0;34m'trend'\u001b[0m\u001b[0;34m,\u001b[0m \u001b[0;34m'trend_value'\u001b[0m\u001b[0;34m,\u001b[0m \u001b[0;34m'time'\u001b[0m\u001b[0;34m]\u001b[0m\u001b[0;34m\u001b[0m\u001b[0m\n\u001b[0;32m----> 5\u001b[0;31m \u001b[0mstats\u001b[0m \u001b[0;34m=\u001b[0m \u001b[0mvalidate_slot_filling_per_slot\u001b[0m\u001b[0;34m(\u001b[0m\u001b[0mdata\u001b[0m\u001b[0;34m,\u001b[0m \u001b[0mmy_slots\u001b[0m\u001b[0;34m)\u001b[0m\u001b[0;34m\u001b[0m\u001b[0m\n\u001b[0m\u001b[1;32m      6\u001b[0m \u001b[0mstats\u001b[0m\u001b[0;34m\u001b[0m\u001b[0m\n",
      "\u001b[0;32m<ipython-input-285-d4d97f816fe2>\u001b[0m in \u001b[0;36mvalidate_slot_filling_per_slot\u001b[0;34m(df_joined, slots)\u001b[0m\n\u001b[1;32m     14\u001b[0m             \u001b[0;32mif\u001b[0m \u001b[0mi\u001b[0m \u001b[0;32min\u001b[0m \u001b[0mclasses\u001b[0m \u001b[0;32mor\u001b[0m \u001b[0mi\u001b[0m \u001b[0;32mis\u001b[0m \u001b[0;32mNone\u001b[0m\u001b[0;34m:\u001b[0m\u001b[0;34m\u001b[0m\u001b[0m\n\u001b[1;32m     15\u001b[0m                 \u001b[0;32mcontinue\u001b[0m\u001b[0;34m\u001b[0m\u001b[0m\n\u001b[0;32m---> 16\u001b[0;31m             \u001b[0;32melif\u001b[0m \u001b[0mi\u001b[0m\u001b[0;34m.\u001b[0m\u001b[0mistitle\u001b[0m\u001b[0;34m(\u001b[0m\u001b[0;34m)\u001b[0m\u001b[0;34m:\u001b[0m\u001b[0;34m\u001b[0m\u001b[0m\n\u001b[0m\u001b[1;32m     17\u001b[0m                 \u001b[0mclasses\u001b[0m\u001b[0;34m.\u001b[0m\u001b[0mappend\u001b[0m\u001b[0;34m(\u001b[0m\u001b[0mi\u001b[0m\u001b[0;34m)\u001b[0m\u001b[0;34m\u001b[0m\u001b[0m\n\u001b[1;32m     18\u001b[0m         \u001b[0mprint\u001b[0m\u001b[0;34m(\u001b[0m\u001b[0mclasses\u001b[0m\u001b[0;34m)\u001b[0m\u001b[0;34m\u001b[0m\u001b[0m\n",
      "\u001b[0;31mAttributeError\u001b[0m: 'float' object has no attribute 'istitle'"
     ]
    }
   ],
   "source": [
    "import pandas as pd\n",
    "data = pd.read_csv('test_pred_whole_list.csv')\n",
    "data = data[~pd.isnull(data['Hit or not'])]\n",
    "my_slots = ['geo', 'topic', 'subtopic', 'trend', 'trend_value', 'time']\n",
    "stats = validate_slot_filling_per_slot(data, my_slots)\n",
    "stats"
   ]
  },
  {
   "cell_type": "code",
   "execution_count": 284,
   "metadata": {},
   "outputs": [
    {
     "name": "stderr",
     "output_type": "stream",
     "text": [
      "/Users/phillipparamirez/anaconda3/lib/python3.6/site-packages/ipykernel_launcher.py:11: SettingWithCopyWarning: \n",
      "A value is trying to be set on a copy of a slice from a DataFrame.\n",
      "Try using .loc[row_indexer,col_indexer] = value instead\n",
      "\n",
      "See the caveats in the documentation: http://pandas.pydata.org/pandas-docs/stable/indexing.html#indexing-view-versus-copy\n",
      "  # This is added back by InteractiveShellApp.init_path()\n",
      "/Users/phillipparamirez/anaconda3/lib/python3.6/site-packages/ipykernel_launcher.py:23: SettingWithCopyWarning: \n",
      "A value is trying to be set on a copy of a slice from a DataFrame.\n",
      "Try using .loc[row_indexer,col_indexer] = value instead\n",
      "\n",
      "See the caveats in the documentation: http://pandas.pydata.org/pandas-docs/stable/indexing.html#indexing-view-versus-copy\n",
      "/Users/phillipparamirez/anaconda3/lib/python3.6/site-packages/ipykernel_launcher.py:25: SettingWithCopyWarning: \n",
      "A value is trying to be set on a copy of a slice from a DataFrame.\n",
      "Try using .loc[row_indexer,col_indexer] = value instead\n",
      "\n",
      "See the caveats in the documentation: http://pandas.pydata.org/pandas-docs/stable/indexing.html#indexing-view-versus-copy\n"
     ]
    },
    {
     "name": "stdout",
     "output_type": "stream",
     "text": [
      "slot stats: {'TP': 1, 'FP': 6, 'precision': 0.14285714285714285}\n",
      "slot stats: {'TP': 1, 'FP': 3, 'precision': 0.25}\n",
      "slot stats: {'TP': 1, 'FP': 3, 'precision': 0.25}\n"
     ]
    },
    {
     "data": {
      "text/plain": [
       "{}"
      ]
     },
     "execution_count": 284,
     "metadata": {},
     "output_type": "execute_result"
    }
   ],
   "source": [
    "import pandas as pd\n",
    "from sklearn.metrics import f1_score\n",
    "df_joined = pd.DataFrame([{'geo': 'London', 'pred_geo': 'London'},\n",
    "                              {'geo': 'London', 'pred_geo': 'London two'},\n",
    "                              {'geo': 'London', 'pred_geo': 'London two'},\n",
    "                              {'geo': 'London one', 'pred_geo': 'London'},\n",
    "                              {'geo': None, 'pred_geo': 'London'},\n",
    "                              {'geo': None, 'pred_geo': 'London'},\n",
    "                              {'geo': None, 'pred_geo': 'London'},\n",
    "                              {'geo': 'London', 'pred_geo': None},\n",
    "                              {'geo': 'London', 'pred_geo': 'Berlin'},\n",
    "                              {'geo': None, 'pred_geo': None},\n",
    "                             {'geo': 'Berlin', 'pred_geo': 'Berlin'},\n",
    "                             {'geo': 'Berlin', 'pred_geo': 'London'},\n",
    "                             {'geo': None, 'pred_geo': 'Berlin'},\n",
    "                             {'geo': 'Berlin', 'pred_geo': None},\n",
    "                             {'geo': 'Amsterdam', 'pred_geo': 'Amsterdam'},\n",
    "                             {'geo': 'Amsterdam', 'pred_geo': 'London'},\n",
    "                             {'geo': None, 'pred_geo': 'Amsterdam'},\n",
    "                             {'geo': 'Amsterdam', 'pred_geo': None},\n",
    "                             {'geo': 'Berlin', 'pred_geo': 'Berlin two'},\n",
    "                             {'geo': 'Amsterdam', 'pred_geo': 'Berlin'},\n",
    "                             {'geo': 'Amsterdam one', 'pred_geo': 'Amsterdam'},\n",
    "                             {'geo': 'London', 'pred_geo': 'Amsterdam'},])\n",
    "slots = ['geo']\n",
    "test = validate_slot_filling_per_slot(df_joined, slots)\n",
    "test"
   ]
  },
  {
   "cell_type": "code",
   "execution_count": 135,
   "metadata": {},
   "outputs": [
    {
     "data": {
      "text/plain": [
       "[0,\n",
       " 1,\n",
       " 2,\n",
       " 7,\n",
       " 8,\n",
       " 21,\n",
       " 0,\n",
       " 3,\n",
       " 4,\n",
       " 5,\n",
       " 6,\n",
       " 11,\n",
       " 15,\n",
       " 10,\n",
       " 11,\n",
       " 13,\n",
       " 18,\n",
       " 8,\n",
       " 10,\n",
       " 12,\n",
       " 19,\n",
       " 14,\n",
       " 15,\n",
       " 17,\n",
       " 19,\n",
       " 14,\n",
       " 16,\n",
       " 20,\n",
       " 21]"
      ]
     },
     "execution_count": 135,
     "metadata": {},
     "output_type": "execute_result"
    }
   ],
   "source": [
    "list(test.index.values)"
   ]
  },
  {
   "cell_type": "code",
   "execution_count": null,
   "metadata": {},
   "outputs": [],
   "source": []
  }
 ],
 "metadata": {
  "kernelspec": {
   "display_name": "Python 3",
   "language": "python",
   "name": "python3"
  },
  "language_info": {
   "codemirror_mode": {
    "name": "ipython",
    "version": 3
   },
   "file_extension": ".py",
   "mimetype": "text/x-python",
   "name": "python",
   "nbconvert_exporter": "python",
   "pygments_lexer": "ipython3",
   "version": "3.6.4"
  }
 },
 "nbformat": 4,
 "nbformat_minor": 2
}
